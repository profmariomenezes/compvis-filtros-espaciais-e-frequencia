{
  "nbformat": 4,
  "nbformat_minor": 0,
  "metadata": {
    "anaconda-cloud": {},
    "kernelspec": {
      "display_name": "Python 3",
      "language": "python",
      "name": "python3"
    },
    "language_info": {
      "codemirror_mode": {
        "name": "ipython",
        "version": 3
      },
      "file_extension": ".py",
      "mimetype": "text/x-python",
      "name": "python",
      "nbconvert_exporter": "python",
      "pygments_lexer": "ipython3",
      "version": "3.6.4"
    },
    "colab": {
      "name": "03-Filtros-Frequencia-scikit-image-para-alunos.ipynb",
      "provenance": []
    }
  },
  "cells": [
    {
      "cell_type": "markdown",
      "metadata": {
        "id": "ECgmWtN-Zmu4"
      },
      "source": [
        "# Transformada de Fourier\n",
        "\n",
        "## Filtros no domínio da Frequência\n",
        "\n",
        "#### Fourier Transform in Numpy\n",
        "\n",
        "Vamos aprender como encontrar a Transformada de Fourier utilizando o Numpy. Numpy tem um pacote FFT para fazer isso. **np.fft.fft2()** provê a transformação para o domínio da frequência, que será uma matriz (array) complexa. O primeiro argumento é a imagem de entrada, que é **nível de cinza**. O segundo argumento é opcional que decide o tamanho da matriz de saída. Se nenhum argumento é passado, o tamanho da matriz de saída será o mesmo da entrada.\n",
        "\n",
        "Uma vez que temos o resultado, a componente de frequência zero (componente DC) estará no topo esquerdo. Se queremos trazê-la para o centro, precisamos deslocar o resultado por $\\frac{N}{2}$ em ambas as direções. Isto é feito automagicamente pela função **np.fft.fftshift()**"
      ]
    },
    {
      "cell_type": "code",
      "metadata": {
        "id": "ii2V5Rw7Zmu5"
      },
      "source": [
        "%matplotlib inline"
      ],
      "execution_count": null,
      "outputs": []
    },
    {
      "cell_type": "code",
      "metadata": {
        "id": "qD3wthf5Zmu9"
      },
      "source": [
        "import numpy as np\n",
        "from skimage import io\n",
        "from matplotlib import pyplot as plt\n",
        "from skimage.color import rgb2gray\n",
        "from pylab import rcParams\n",
        "from scipy import misc\n",
        "rcParams['figure.figsize'] = 10, 10\n",
        "\n",
        "#img = io.imread('/home/mario/docs/cursos/pdivc/images/messi5.jpg')\n",
        "img_c = misc.face()\n",
        "img = rgb2gray(img_c)\n",
        "f = np.fft.fft2(img)\n",
        "fshift = np.fft.fftshift(f)\n",
        "magnitude_spectrum = np.log(np.abs(fshift))\n",
        "\n",
        "plt.subplot(121),plt.imshow(img, cmap = 'gray')\n",
        "plt.title('Input Image'), plt.xticks([]), plt.yticks([])\n",
        "plt.subplot(122),plt.imshow(np.log(np.abs(fshift)),cmap='gray')\n",
        "#plt.subplot(122),plt.imshow(magnitude_spectrum, cmap = 'gray')\n",
        "plt.title('Magnitude Spectrum'), plt.xticks([]), plt.yticks([])\n",
        "plt.show()"
      ],
      "execution_count": null,
      "outputs": []
    },
    {
      "cell_type": "markdown",
      "metadata": {
        "id": "hztRvJ_IZmvA"
      },
      "source": [
        "Assim, obtemos uma imagem da magnitude do espectro mostrando a região mais clara no centro, onde estão as baixas frequências.\n",
        "\n",
        "Agora podemos fazer alguns filtros no domínio da frequência utilizando esta técnica.\n",
        "\n",
        "No trecho abaixo, vamos remover as baixas frequências fazendo uma máscara retangular (quadrada) de 60x60. É uma aplicação bem direta (simplesmente *zeramos* os valores que estão dentro desta máscara. \n",
        " \n",
        "    fshift[crow-30:crow+30, ccol-30:ccol+30] = 0\n",
        "\n",
        "Depois fazemos o deslocamento inverto, isto é, retornamos a componente de frequência zero para o topo esquerdo superior e então calculamos a transformada inversa.\n",
        "\n",
        "Tomamos os valores absolutos da imagem (é um imagem com valores complexos), que nos dá uma imagem resultante de um filtro passa alta."
      ]
    },
    {
      "cell_type": "code",
      "metadata": {
        "id": "_RuIFODRZmvB"
      },
      "source": [
        "rows, cols = img.shape\n",
        "crow,ccol = int(rows/2) , int(cols/2)\n",
        "fshift[crow-30:crow+30, ccol-30:ccol+30] = 0\n",
        "f_ishift = np.fft.ifftshift(fshift)\n",
        "img_back = np.fft.ifft2(f_ishift)\n",
        "img_back = np.abs(img_back)\n",
        "\n",
        "rcParams['figure.figsize'] = 15, 10\n",
        "\n",
        "plt.subplot(131),plt.imshow(img, cmap = 'gray')\n",
        "plt.title('Input Image'), plt.xticks([]), plt.yticks([])\n",
        "plt.subplot(132),plt.imshow(img_back, cmap = 'gray')\n",
        "plt.title('Image after HPF'), plt.xticks([]), plt.yticks([])\n",
        "plt.subplot(133),plt.imshow(img_back)\n",
        "plt.title('Result in JET'), plt.xticks([]), plt.yticks([])\n",
        "\n",
        "plt.show()"
      ],
      "execution_count": null,
      "outputs": []
    },
    {
      "cell_type": "markdown",
      "metadata": {
        "id": "1AwqxU6cZmvE"
      },
      "source": [
        "O resultado mostra que um filtro passa alta é uma operação de detecção de bordas. Nós vimos isso com os filtros de gradientes (no domínio espacial). Isto também mostra que a maioria dos dados (informação) de uma imagem está presente na região de baixa frequência do espectro. De qualquer modo, vimos como fazer uma DFT, IDFT, etc, no Numpy. "
      ]
    },
    {
      "cell_type": "markdown",
      "metadata": {
        "id": "2eDvRZWXZmvF"
      },
      "source": [
        "```\n",
        "import numpy as np\n",
        "from skimage import exposure\n",
        "import matplotlib.pyplot as plt\n",
        "import matplotlib.image as mpimg\n",
        "from scipy import misc\n",
        "\n",
        "def butter2d_lp(shape, f, n, pxd=1): \n",
        "    \"\"\"Designs an n-th order lowpass 2D Butterworth filter with cutoff\n",
        "    frequency f. pxd defines the number of pixels per unit of frequency (e.g.,\n",
        "    degrees of visual angle).\"\"\"\n",
        "    pxd = float(pxd)\n",
        "    rows, cols = shape \n",
        "    x = np.linspace(-0.5, 0.5, cols)  * cols / pxd\n",
        "    y = np.linspace(-0.5, 0.5, rows)  * rows / pxd\n",
        "    radius = np.sqrt((x**2)[np.newaxis] + (y**2)[:, np.newaxis]) \n",
        "    filt = 1 / (1.0 + (radius / f)**(2*n))\n",
        "    return filt\n",
        "\n",
        "def butter2d_bp(shape, cutin, cutoff, n, pxd=1):\n",
        "    \"\"\"Designs an n-th order bandpass 2D Butterworth filter with cutin and\n",
        "    cutoff frequencies. pxd defines the number of pixels per unit of frequency\n",
        "    (e.g., degrees of visual angle).\"\"\"\n",
        "    return butter2d_lp(shape,cutoff,n,pxd) - butter2d_lp(shape,cutin,n,pxd)\n",
        "\n",
        "def butter2d_hp(shape, f, n, pxd=1):\n",
        "    \"\"\"Designs an n-th order highpass 2D Butterworth filter with cutin\n",
        "    frequency f. pxd defines the number of pixels per unit of frequency (e.g.,\n",
        "    degrees of visual angle).\"\"\"\n",
        "    return 1. - butter2d_lp(shape, f, n, pxd)\n",
        "\n",
        "def ideal2d_lp(shape, f, pxd=1):\n",
        "    \"\"\"Designs an ideal filter with cutoff frequency f. pxd defines the number\n",
        "    of pixels per unit of frequency (e.g., degrees of visual angle).\"\"\"\n",
        "    pxd = float(pxd)\n",
        "    rows, cols = shape \n",
        "    x = np.linspace(-0.5, 0.5, cols)  * cols / pxd\n",
        "    y = np.linspace(-0.5, 0.5, rows)  * rows / pxd\n",
        "    radius = np.sqrt((x**2)[np.newaxis] + (y**2)[:, np.newaxis]) \n",
        "    filt = np.ones(shape)\n",
        "    filt[radius>f] = 0\n",
        "    return filt\n",
        "\n",
        "def ideal2d_bp(shape, cutin, cutoff, pxd=1):\n",
        "    \"\"\"Designs an ideal filter with cutin and cutoff frequencies. pxd defines\n",
        "    the number of pixels per unit of frequency (e.g., degrees of visual\n",
        "    angle).\"\"\"\n",
        "    return ideal2d_lp(shape,cutoff,pxd) - ideal2d_lp(shape,cutin,pxd)\n",
        "\n",
        "def ideal2d_hp(shape, f, n, pxd=1):\n",
        "    \"\"\"Designs an ideal filter with cutin frequency f. pxd defines the number\n",
        "    of pixels per unit of frequency (e.g., degrees of visual angle).\"\"\"\n",
        "    return 1. - ideal2d_lp(shape, f, n, pxd)\n",
        "\n",
        "def bandpass(data, highpass, lowpass, n, pxd, eq='histogram'):\n",
        "    \"\"\"Designs then applies a 2D bandpass filter to the data array. If n is\n",
        "    None, and ideal filter (with perfectly sharp transitions) is used\n",
        "    instead.\"\"\"\n",
        "    fft = np.fft.fftshift(np.fft.fft2(data))\n",
        "    if n:\n",
        "        H = butter2d_bp(data.shape, highpass, lowpass, n, pxd)\n",
        "    else:\n",
        "        H = ideal2d_bp(data.shape, highpass, lowpass, pxd)\n",
        "    fft_new = fft * H\n",
        "    new_image = np.abs(np.fft.ifft2(np.fft.ifftshift(fft_new)))    \n",
        "    if eq == 'histogram':\n",
        "        new_image = exposure.equalize_hist(new_image)\n",
        "    return new_image\n",
        "```\n",
        "\n"
      ]
    },
    {
      "cell_type": "markdown",
      "metadata": {
        "id": "drf2J0nKZmvG"
      },
      "source": [
        "## Exercícios\n",
        "\n",
        "### Exercício 1\n",
        "\n",
        "Crie uma imagem de 30x30, preenchida com zeros e depois crie um retângulo de 5:24 em **x** e de 13:17 em **y**, com valor 1.\n",
        "\n",
        "Depois calcule a Transformada Rápida de Fourier (`fft2`), e obtenha uma imagem (magnitude do espectro), conforme mostrado.\n",
        "\n",
        "Crie uma nova imagem adicionando zeros à imagem do retângulo (isto é chamado de *padding*) de modo que ela fique com tamanho 256x256 e então calcule novamente a Transformada de Fourier e comente as diferenças dos espectros."
      ]
    },
    {
      "cell_type": "markdown",
      "metadata": {
        "id": "wtdEvVhnZmvJ"
      },
      "source": [
        "Agora faça um *shift* da Transformada, reposicionando-a, de modo que a origem fique no centro da imagem."
      ]
    },
    {
      "cell_type": "markdown",
      "metadata": {
        "id": "SbdojK_fZmvK"
      },
      "source": [
        "Por último neste exercício, aplique uma transformação logarítmica à Transformada para mostrar mais detalhes do espectro."
      ]
    },
    {
      "cell_type": "markdown",
      "metadata": {
        "id": "CntDfFo4ZmvK"
      },
      "source": [
        "### Exercício 2\n",
        "\n",
        "Aplique um Filtro Gaussiano passa-baixa na imagem da *bola* de futebol americano (**você deve baixar a imagem do Moodle e carregar aqui no Notebook**). Lembre-se de fazer o *padding* da imagem de modo que ela fique com dimensões que sejam potência de 2, e seja uma **imagem quadrada**. Você deve mostrar a imagem original, o espectro de Fourier (magnitude do espectro), a imagem da bola após a aplicação do filtro e o espectro de Fourier filtrado com o Filtro Gaussiano passa-baixa."
      ]
    },
    {
      "cell_type": "markdown",
      "metadata": {
        "id": "QI7yUQYNZmvO"
      },
      "source": [
        "## Exercício 3\n",
        "\n",
        "Aplique um Filtro Gaussiano passa-alta na imagem da bola de futebol americano. Lembre-se de fazer o *padding* da imagem original para ficar com dimensões potência de 2 e seja uma imagem quadrada. Você deve mostrar o espectro de Fourier (magnitude do espectro), a imagem da bola após a aplicação do Filtro e o espectro de Fourier filtrado."
      ]
    },
    {
      "cell_type": "markdown",
      "metadata": {
        "id": "5gv2yo32ZmvO"
      },
      "source": [
        "### Exercício 4\n",
        "\n",
        "Filtros de *entalhe* (recorte, pontuais):\n",
        "\n",
        "* são utilizados para remover ruído *espectral* repetitivo de uma imagem;\n",
        "* são como um pequeno filtro passa alta, mas eles *recortam* (removem) frequências específicas, ao invés da  [componente *dc*](https://forum.allaboutcircuits.com/threads/what-is-the-dc-component.7210/), [*dc* component](https://www.tutorialspoint.com/signals_and_systems/dc_component.asp)\n",
        "* atenua uma frequência selecionada (e algumas de suas vizinhas) e deixa as outras frequências da transformada de Fourier relativamente não modificadas.\n",
        "* podemos construir tipos diferentes de filtros de *entalhe* a partir dos filtros exemplificados anteriormente:\n",
        "    * \"ideal\" - um filtro ideal passa alta com uma frequência de corte D0 (D0 > 0)\n",
        "    * \"butterworth\" - um filtro butterworth passa alta de ordem *n*, e corte D0. Valor default de *n* é 1.0 (D0 > 0)\n",
        "    * \"gaussiano\" - um filtro gaussiano passa alta com um frequência de corte (desvio padrão) D0 (D0 > 0)\n",
        "\n",
        "Estes filtros podem ser implementados com uma função do tipo:\n",
        "\n",
        "`entalhe(tipo, M, N, D0, x, y, n)`  \n",
        "  - função para aplicar o filtro de *entalhe* do `tipo` especificado, dentrado na coluna `x`, linha `y`, em um espectro de Fourier não deslocado. `D0` é a frequẽncia de corte e `n` é a ordem do filtro Butterworth; não usado para os demais tipos.\n",
        "\n",
        "\n",
        "Ruído repetitivo em uma imagem é algumas vezes visto como um ponto brilhante, diferente da origem. É possível suprimir tal ruído efetivamente através da remoção cuidadosa destes picos. Uma maneira de se fazer isso é utilizar um filtro de *entalhe* que simplesmente remove aquela frequência da imagem. Esta técnica é muita comum no processamento de sinais de áudio, onde ela é utilizada para remover zumbidos mecânicos ou eletrônicos, tais como o zumbido de 60Hz de fontes de corrente alternada (AC). Normalmente, estes filtros são criados através de procedimentos *ad hoc*, requerendo um expert humano para determinar quais frequências que devem ser removidas para limpar o sinal.\n",
        "\n",
        "As imagens a seguir demonstram este procedimento de se remover um ruído espectral de uma imagem. **Para executar o código a seguir, você deve colocar as imagens em um caminho acessível ao notebook e mudar no código**."
      ]
    },
    {
      "cell_type": "code",
      "metadata": {
        "id": "x_Svg6cFZmvR"
      },
      "source": [
        "imgnoiseball = io.imread('/home/mario/docs/cursos/pdivc/progs/images/noiseball.png')\n",
        "imgnoise_spectrum = io.imread('/home/mario/docs/cursos/pdivc/progs/images/noise_spectrum.png')\n",
        "imgfixed_ball = io.imread('/home/mario/docs/cursos/pdivc/progs/images/fixed_football.png')\n",
        "imgfixed_spectrum = io.imread('/home/mario/docs/cursos/pdivc/progs/images/fixed_spectrum.png')\n",
        "rcParams['figure.figsize'] = 15, 10\n",
        "\n",
        "plt.subplot(221),plt.imshow(imgnoiseball, cmap = 'gray')\n",
        "plt.title('Img c/ ruido'), plt.xticks([]), plt.yticks([])\n",
        "plt.subplot(222),plt.imshow(imgnoise_spectrum, cmap = 'gray')\n",
        "plt.title('FFT da img c ruido'), plt.xticks([]), plt.yticks([])\n",
        "plt.subplot(223),plt.imshow(imgfixed_ball, cmap = 'gray')\n",
        "plt.title('Img filtrada'), plt.xticks([]), plt.yticks([])\n",
        "plt.subplot(224),plt.imshow(imgfixed_spectrum, cmap = 'gray')\n",
        "plt.title('FFT filtrado'), plt.xticks([]),plt.yticks([])\n",
        "\n",
        "plt.show()"
      ],
      "execution_count": null,
      "outputs": []
    },
    {
      "cell_type": "markdown",
      "metadata": {
        "id": "NBAYbxb5ZmvT"
      },
      "source": [
        "### Exercício 5 - Melhoria de Imagem *a la* CSI\n",
        "\n",
        "Você agora é um especialista em processamento de imagens para um departamento de investigação. Um detective abriu um caso antigo e parte de sua evidência é a foto de carro em um jornal (de papel). Você então é requisitado para fazer alguma mágica, tipo CSI, para tentar reconhecer a placa do carro ou tentar identificar o suspeito.\n",
        "\n",
        "1. Pegue a imagem **car_noise_pattern_halftone.png** e utilize as técnicas anteriores (filtros de *entalhe*, suavização, etc) para restaurar a imagem.  \n",
        "**Dicas**:\n",
        "\n",
        "- crie uma função que receba uma lista de picos (onde estão os picos de ruídos) como um argumento;\n",
        "- os picos formam um padrão repetitivo. Descubra este padrão para economizar tempo.\n",
        "\n",
        "2. Faça um ajuste fino nos seus filtros, mudando as larguras dos três tipos de filtros (`D0`) e experimentando, se necessário, alguma suavização no domínio da frequência. Você deve entregar a melhor solução para cada tipo de filtro. \n",
        "\n",
        "3. Use um programa de processamento de imagens (Photoshop/Gimp) e faça uma suavização na imagem original. Você deve entregar esta imagem suavizada."
      ]
    }
  ]
}